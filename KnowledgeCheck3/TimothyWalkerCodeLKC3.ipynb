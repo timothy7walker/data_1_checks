{
 "cells": [
  {
   "cell_type": "markdown",
   "metadata": {
    "colab_type": "text",
    "id": "view-in-github"
   },
   "source": [
    "<a href=\"https://colab.research.google.com/github/timothy7walker/data_1_checks/blob/main/TimothyWalkerCodeLKC2.ipynb\" target=\"_parent\"><img src=\"https://colab.research.google.com/assets/colab-badge.svg\" alt=\"Open In Colab\"/></a>"
   ]
  },
  {
   "cell_type": "markdown",
   "metadata": {
    "id": "UTca8fXQQVls"
   },
   "source": [
    "This is knowledge check 2 for Code Louisville Data analytics 1 for the May 2022 cohort. This knowledge check shows the ability to read data from a csv file and plot the data in graphical form using seaborn or matplotlib."
   ]
  },
  {
   "cell_type": "markdown",
   "metadata": {
    "id": "jh8MAz02dixX"
   },
   "source": [
    "File read uing Pandas:\n",
    "Plot using matplotlib:"
   ]
  },
  {
   "cell_type": "code",
   "execution_count": 26,
   "metadata": {
    "colab": {
     "base_uri": "https://localhost:8080/"
    },
    "id": "GWNdJ-l_QTcI",
    "outputId": "678c2ba3-3cef-4069-99de-74e8929fc98f"
   },
   "outputs": [
    {
     "name": "stdout",
     "output_type": "stream",
     "text": [
      "                                     name  selling_price  year seller_type  \\\n",
      "0               Royal Enfield Classic 350         175000  2019  Individual   \n",
      "1                               Honda Dio          45000  2017  Individual   \n",
      "2     Royal Enfield Classic Gunmetal Grey         150000  2018  Individual   \n",
      "3       Yamaha Fazer FI V 2.0 [2016-2018]          65000  2015  Individual   \n",
      "4                   Yamaha SZ [2013-2014]          20000  2011  Individual   \n",
      "...                                   ...            ...   ...         ...   \n",
      "1056                            Activa 3g          17000  2010  Individual   \n",
      "1057                     Honda CB twister          16000  2012  Individual   \n",
      "1058                   Bajaj Discover 125          15000  2013  Individual   \n",
      "1059                       Honda CB Shine          12000  2009  Individual   \n",
      "1060                     Bajaj Pulsar 150          10000  2008  Individual   \n",
      "\n",
      "          owner  km_driven  ex_showroom_price  \n",
      "0     1st owner        350                NaN  \n",
      "1     1st owner       5650                NaN  \n",
      "2     1st owner      12000           148114.0  \n",
      "3     1st owner      23000            89643.0  \n",
      "4     2nd owner      21000                NaN  \n",
      "...         ...        ...                ...  \n",
      "1056  1st owner     500000            52000.0  \n",
      "1057  1st owner      33000            51000.0  \n",
      "1058  2nd owner      35000            57000.0  \n",
      "1059  1st owner      53000            58000.0  \n",
      "1060  1st owner      92233            75000.0  \n",
      "\n",
      "[1061 rows x 7 columns]\n"
     ]
    },
    {
     "data": {
      "image/png": "[encoded data removed]",
      "text/plain": [
       "<Figure size 432x288 with 1 Axes>"
      ]
     },
     "metadata": {
      "needs_background": "light"
     },
     "output_type": "display_data"
    }
   ],
   "source": [
    "import pandas as pd\n",
    "import matplotlib as mpl\n",
    "import matplotlib.pyplot as plt\n",
    "\n",
    "bikeData = pd.read_csv('assets/bike_details.csv')\n",
    "print(bikeData) \n",
    "\n",
    "plt.plot(bikeData['name'],bikeData['selling_price'], '^')\n",
    "plt.title(\"Motorcycle Prices\", fontsize=24)\n",
    "plt.xlabel(\"Motorcycle Model\", fontsize=18)\n",
    "plt.ylabel(\"Price\", fontsize=18)\n",
    "plt.show()\n",
    "\n",
    "\n",
    "\n",
    "\n",
    "\n"
   ]
  },
  {
   "cell_type": "markdown",
   "metadata": {},
   "source": [
    "Function calculating average motorcycle price."
   ]
  },
  {
   "cell_type": "code",
   "execution_count": 27,
   "metadata": {},
   "outputs": [
    {
     "data": {
      "text/plain": [
       "59638"
      ]
     },
     "execution_count": 27,
     "metadata": {},
     "output_type": "execute_result"
    }
   ],
   "source": [
    "def priceinfo(bikePrice):\n",
    "    meanprice = sum(bikePrice['selling_price']) / bikePrice.shape[0]\n",
    "    return round(meanprice)\n",
    "\n",
    "priceinfo(bikeData)"
   ]
  },
  {
   "cell_type": "markdown",
   "metadata": {},
   "source": [
    "Function calculating the average bike year"
   ]
  },
  {
   "cell_type": "code",
   "execution_count": 42,
   "metadata": {},
   "outputs": [
    {
     "data": {
      "text/plain": [
       "2014"
      ]
     },
     "execution_count": 42,
     "metadata": {},
     "output_type": "execute_result"
    }
   ],
   "source": [
    "def modelyear(bikeYear):\n",
    "    x = bikeYear.shape[0]\n",
    "        #for x in bikeYear:\n",
    "            #if bikeYear['year'] == '2019':\n",
    "            #newerbike = bikeYear['year']\n",
    "    averageYear = sum(bikeYear['year']) / x\n",
    "    return round(averageYear)\n",
    "modelyear(bikeData)"
   ]
  }
 ],
 "metadata": {
  "colab": {
   "authorship_tag": "ABX9TyPn9aNyIqehyk0sIBrGlwOu",
   "collapsed_sections": [],
   "history_visible": true,
   "include_colab_link": true,
   "name": "TimothyWalkerCodeLKC2.ipynb",
   "provenance": []
  },
  "kernelspec": {
   "display_name": "Python 3 (ipykernel)",
   "language": "python",
   "name": "python3"
  },
  "language_info": {
   "codemirror_mode": {
    "name": "ipython",
    "version": 3
   },
   "file_extension": ".py",
   "mimetype": "text/x-python",
   "name": "python",
   "nbconvert_exporter": "python",
   "pygments_lexer": "ipython3",
   "version": "3.9.7"
  },
  "vscode": {
   "interpreter": {
    "hash": "81794d4967e6c3204c66dcd87b604927b115b27c00565d3d43f05ba2f3a2cb0d"
   }
  }
 },
 "nbformat": 4,
 "nbformat_minor": 1
}
