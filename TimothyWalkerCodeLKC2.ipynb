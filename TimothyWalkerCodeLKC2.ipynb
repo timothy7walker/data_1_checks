{
  "nbformat": 4,
  "nbformat_minor": 0,
  "metadata": {
    "colab": {
      "name": "TimothyWalkerCodeLKC2.ipynb",
      "provenance": [],
      "authorship_tag": "ABX9TyOifS+J26r1B3f2S5vkHAnM",
      "include_colab_link": true
    },
    "kernelspec": {
      "name": "python3",
      "display_name": "Python 3"
    },
    "language_info": {
      "name": "python"
    }
  },
  "cells": [
    {
      "cell_type": "markdown",
      "metadata": {
        "id": "view-in-github",
        "colab_type": "text"
      },
      "source": [
        "<a href=\"https://colab.research.google.com/github/timothy7walker/data_1_checks/blob/main/TimothyWalkerCodeLKC2.ipynb\" target=\"_parent\"><img src=\"https://colab.research.google.com/assets/colab-badge.svg\" alt=\"Open In Colab\"/></a>"
      ]
    },
    {
      "cell_type": "markdown",
      "source": [
        "This is knowledge check 2 for Code Louisville Data analytics 1 for the Maoy 2022 cohort. This knowledge check shows the ability to read data from a csv file and plot the data in graphical form using seaborn or matplotlib."
      ],
      "metadata": {
        "id": "UTca8fXQQVls"
      }
    },
    {
      "cell_type": "code",
      "execution_count": null,
      "metadata": {
        "id": "GWNdJ-l_QTcI"
      },
      "outputs": [],
      "source": [
        "This is the Knowledge check 2 for"
      ]
    }
  ]
}